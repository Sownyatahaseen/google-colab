{
  "nbformat": 4,
  "nbformat_minor": 0,
  "metadata": {
    "colab": {
      "provenance": [],
      "authorship_tag": "ABX9TyORasd8fOl3M7OBHbhJSIgv",
      "include_colab_link": true
    },
    "kernelspec": {
      "name": "python3",
      "display_name": "Python 3"
    },
    "language_info": {
      "name": "python"
    }
  },
  "cells": [
    {
      "cell_type": "markdown",
      "metadata": {
        "id": "view-in-github",
        "colab_type": "text"
      },
      "source": [
        "<a href=\"https://colab.research.google.com/github/Sownyatahaseen/google-colab/blob/main/Untitled15.ipynb\" target=\"_parent\"><img src=\"https://colab.research.google.com/assets/colab-badge.svg\" alt=\"Open In Colab\"/></a>"
      ]
    },
    {
      "cell_type": "code",
      "source": [
        "#include <stdio.h>\n",
        "int main() {\n",
        "int a[3][3] = {{1, 2, 3}, {4, 5, 6}, {7, 8, 9}};\n",
        "int b[3][3] = {{9, 8, 7}, {6, 5, 4}, {3, 2, 1}};\n",
        "int c[3][3];\n",
        "int i, j;\n",
        "for (i = 0; i < 3; i++) {\n",
        "for (j = 0; j < 3; j++) {"
      ],
      "metadata": {
        "colab": {
          "base_uri": "https://localhost:8080/",
          "height": 106
        },
        "id": "IFbKpMazNBLo",
        "outputId": "406f9568-110b-41a5-deb9-14fa72f8ae72"
      },
      "execution_count": 1,
      "outputs": [
        {
          "output_type": "error",
          "ename": "SyntaxError",
          "evalue": "invalid syntax (<ipython-input-1-b26731055833>, line 2)",
          "traceback": [
            "\u001b[0;36m  File \u001b[0;32m\"<ipython-input-1-b26731055833>\"\u001b[0;36m, line \u001b[0;32m2\u001b[0m\n\u001b[0;31m    int main() {\u001b[0m\n\u001b[0m        ^\u001b[0m\n\u001b[0;31mSyntaxError\u001b[0m\u001b[0;31m:\u001b[0m invalid syntax\n"
          ]
        }
      ]
    },
    {
      "cell_type": "code",
      "source": [],
      "metadata": {
        "id": "tblASTyKOPag"
      },
      "execution_count": null,
      "outputs": []
    },
    {
      "cell_type": "code",
      "source": [
        "const mA = math.matrix([[1, 2], [3, 4], [5, 6]]);\n",
        "const mB = math.matrix([[1,-1], [2,-2], [3,-3]]);\n",
        "\n",
        "// Matrix Subtraction\n",
        "const matrixSub = math.subtract(mA, mB);\n",
        "\n",
        "// Result [ [0, 3], [1, 6], [2, 9] ]"
      ],
      "metadata": {
        "colab": {
          "base_uri": "https://localhost:8080/",
          "height": 106
        },
        "id": "uFVFeCPfNI2g",
        "outputId": "b1bb637a-3001-4545-cfd5-771b95dcfb0d"
      },
      "execution_count": 2,
      "outputs": [
        {
          "output_type": "error",
          "ename": "SyntaxError",
          "evalue": "invalid syntax (<ipython-input-2-fd10acf00edc>, line 1)",
          "traceback": [
            "\u001b[0;36m  File \u001b[0;32m\"<ipython-input-2-fd10acf00edc>\"\u001b[0;36m, line \u001b[0;32m1\u001b[0m\n\u001b[0;31m    const mA = math.matrix([[1, 2], [3, 4], [5, 6]]);\u001b[0m\n\u001b[0m          ^\u001b[0m\n\u001b[0;31mSyntaxError\u001b[0m\u001b[0;31m:\u001b[0m invalid syntax\n"
          ]
        }
      ]
    },
    {
      "cell_type": "code",
      "source": [
        "#include <stdio.h>\n",
        "#define ROW 3\n",
        "#define COL 3\n",
        "void addMatrices(int mat1[][3], int mat2[][3], int result[][3], int rows, int cols) {\n",
        "    int i, j;\n",
        "\n",
        "    for (i = 0; i < rows; i++) {\n",
        "        for (j = 0; j < cols; j++) {\n",
        "            result[i][j] = mat1[i][j] + mat2[i][j];\n",
        "        }\n",
        "    }\n",
        "}\n",
        "int main() {\n",
        "    int mat1[3][3] = {{1, 2, 3}, {4, 5, 6}, {7, 8, 9}};\n",
        "    int mat2[3][3] = {{9, 8, 7}, {6, 5, 4}, {3, 2, 1}};\n",
        "    int result[3][3];\n",
        "\n",
        "    int rows = 3;\n",
        "    int cols = 3;\n",
        "    addMatrices(mat1, mat2, result, rows, cols);\n",
        "    printf(\"Resultant Matrix:\\n\");\n",
        "    displayMatrix(result, rows, cols);\n",
        "\n",
        "    return 0;\n",
        "}\n"
      ],
      "metadata": {
        "colab": {
          "base_uri": "https://localhost:8080/",
          "height": 106
        },
        "id": "W9NX_MGNNxSA",
        "outputId": "2d72014d-8d50-436c-a6ec-fbea6b8ab912"
      },
      "execution_count": 7,
      "outputs": [
        {
          "output_type": "error",
          "ename": "SyntaxError",
          "evalue": "invalid syntax (<ipython-input-7-af5ff0fc1a38>, line 4)",
          "traceback": [
            "\u001b[0;36m  File \u001b[0;32m\"<ipython-input-7-af5ff0fc1a38>\"\u001b[0;36m, line \u001b[0;32m4\u001b[0m\n\u001b[0;31m    void addMatrices(int mat1[][3], int mat2[][3], int result[][3], int rows, int cols) {\u001b[0m\n\u001b[0m         ^\u001b[0m\n\u001b[0;31mSyntaxError\u001b[0m\u001b[0;31m:\u001b[0m invalid syntax\n"
          ]
        }
      ]
    },
    {
      "cell_type": "code",
      "source": [
        "import numpy as np\n"
      ],
      "metadata": {
        "id": "o1s-2LdSOQ2w"
      },
      "execution_count": null,
      "outputs": []
    },
    {
      "cell_type": "code",
      "source": [
        "def add_matrices(mat1, mat2):\n",
        "\n",
        "    rows = len(mat1)\n",
        "    cols = len(mat1[0])\n",
        "    result = [[0 for _ in range(cols)] for _ in range(rows)]\n",
        "\n",
        "\n",
        "    for i in range(rows):\n",
        "        for j in range(cols):\n",
        "            result[i][j] = mat1[i][j] + mat2[i][j]\n",
        "\n",
        "    return result\n",
        "\n",
        "\n",
        "mat1 = [[1, 2, 3],\n",
        "        [4, 5, 6],\n",
        "        [7, 8, 9]]\n",
        "\n",
        "mat2 = [[9, 8, 7],\n",
        "        [6, 5, 4],\n",
        "        [3, 2, 1]]\n",
        "result_matrix = add_matrices(mat1, mat2)\n",
        "print(\"Resultant Matrix:\")\n",
        "for row in result_matrix:\n",
        "    print(row)"
      ],
      "metadata": {
        "colab": {
          "base_uri": "https://localhost:8080/"
        },
        "id": "hz9YYU5fP1gD",
        "outputId": "07d968f2-9c43-4aef-f8cf-bb293451f644"
      },
      "execution_count": 8,
      "outputs": [
        {
          "output_type": "stream",
          "name": "stdout",
          "text": [
            "Resultant Matrix:\n",
            "[10, 10, 10]\n",
            "[10, 10, 10]\n",
            "[10, 10, 10]\n"
          ]
        }
      ]
    },
    {
      "cell_type": "code",
      "source": [
        "\n",
        "def sub_matrices(mat1, mat2):\n",
        "\n",
        "    rows = len(mat1)\n",
        "    cols = len(mat1[0])\n",
        "\n",
        "\n",
        "    result = [[0 for _ in range(cols)] for _ in range(rows)]\n",
        "    for i in range(rows):\n",
        "        for j in range(cols):\n",
        "            result[i][j] = mat1[i][j] - mat2[i][j]\n",
        "\n",
        "    return result\n",
        "\n",
        "\n",
        "mat1 = [[1, 2, 3],\n",
        "        [4, 5, 6],\n",
        "        [7, 8, 9]]\n",
        "\n",
        "mat2 = [[9, 8, 7],\n",
        "        [6, 5, 4],\n",
        "        [3, 2, 1]]\n",
        "\n",
        "\n",
        "result_matrix = sub_matrices(mat1, mat2)\n",
        "\n",
        "\n",
        "print(\"Resultant Matrix:\")\n",
        "for row in result_matrix:\n",
        "    print(row)"
      ],
      "metadata": {
        "colab": {
          "base_uri": "https://localhost:8080/"
        },
        "id": "GhBP7SNqQROo",
        "outputId": "0ea6b3e6-0d68-42dc-a794-2ca8a960e6f5"
      },
      "execution_count": 9,
      "outputs": [
        {
          "output_type": "stream",
          "name": "stdout",
          "text": [
            "Resultant Matrix:\n",
            "[-8, -6, -4]\n",
            "[-2, 0, 2]\n",
            "[4, 6, 8]\n"
          ]
        }
      ]
    },
    {
      "cell_type": "markdown",
      "source": [
        "# New Section"
      ],
      "metadata": {
        "id": "kmYEwyT9Qfbv"
      }
    },
    {
      "cell_type": "code",
      "source": [
        "def matrix_multiplication(matrix1, matrix2):\n",
        "\n",
        "    rows1 = len(matrix1)\n",
        "    cols1 = len(matrix1[0])\n",
        "    rows2 = len(matrix2)\n",
        "    cols2 = len(matrix2[0])\n",
        "\n",
        "    if cols1 != rows2:\n",
        "        raise ValueError(\"Number of columns in matrix1 must be equal to number of rows in matrix2 for multiplication.\")\n",
        "\n",
        "\n",
        "    result = [[0]*cols2 for _ in range(rows1)]\n",
        "\n",
        "\n",
        "    for i in range(rows1):\n",
        "        for j in range(cols2):\n",
        "            for k in range(cols1):\n",
        "                result[i][j] += matrix1[i][k] * matrix2[k][j]\n",
        "\n",
        "    return result\n",
        "\n",
        "matrix1 = [\n",
        "    [1, 2, 3],\n",
        "    [4, 5, 6]\n",
        "]\n",
        "\n",
        "matrix2 = [\n",
        "    [7, 8],\n",
        "    [9, 10],\n",
        "    [11, 12]\n",
        "]\n",
        "\n",
        "result = matrix_multiplication(matrix1, matrix2)\n",
        "print(\"Result of matrix multiplication:\")\n",
        "for row in result:\n",
        "    print(row)"
      ],
      "metadata": {
        "colab": {
          "base_uri": "https://localhost:8080/"
        },
        "id": "TWP-UUloWcgs",
        "outputId": "8a706202-7493-4f6a-ace2-f07ed7f81bb3"
      },
      "execution_count": 11,
      "outputs": [
        {
          "output_type": "stream",
          "name": "stdout",
          "text": [
            "Result of matrix multiplication:\n",
            "[58, 64]\n",
            "[139, 154]\n"
          ]
        }
      ]
    },
    {
      "cell_type": "code",
      "source": [
        "def transpose_matrix(matrix):\n",
        "\n",
        "    rows = len(matrix)\n",
        "    cols = len(matrix[0])\n",
        "\n",
        "\n",
        "    transpose = [[0]*rows for _ in range(cols)]\n",
        "\n",
        "\n",
        "    for i in range(rows):\n",
        "        for j in range(cols):\n",
        "            transpose[j][i] = matrix[i][j]\n",
        "\n",
        "    return transpose\n",
        "\n",
        "\n",
        "matrix = [\n",
        "    [1, 2, 3],\n",
        "    [4, 5, 6]\n",
        "]\n",
        "\n",
        "transposed_matrix = transpose_matrix(matrix)\n",
        "print(\"Original matrix:\")\n",
        "for row in matrix:\n",
        "    print(row)\n",
        "\n",
        "print(\"\\nTransposed matrix:\")\n",
        "for row in transposed_matrix:\n",
        "    print(row)"
      ],
      "metadata": {
        "colab": {
          "base_uri": "https://localhost:8080/"
        },
        "id": "4AVSp8XNYm5P",
        "outputId": "d9f0d225-59bc-4c48-ef96-4af66e4c6976"
      },
      "execution_count": 13,
      "outputs": [
        {
          "output_type": "stream",
          "name": "stdout",
          "text": [
            "Original matrix:\n",
            "[1, 2, 3]\n",
            "[4, 5, 6]\n",
            "\n",
            "Transposed matrix:\n",
            "[1, 4]\n",
            "[2, 5]\n",
            "[3, 6]\n"
          ]
        }
      ]
    },
    {
      "cell_type": "code",
      "source": [
        "import numpy as np\n",
        "\n",
        "def matrix_division(matrix1, matrix2):\n",
        "\n",
        "    matrix1 = np.array(matrix1)\n",
        "    matrix2 = np.array(matrix2)\n",
        "\n",
        "\n",
        "    if np.linalg.det(matrix2) == 0:\n",
        "        raise ValueError(\"Matrix division is not possible because matrix2 is singular.\")\n",
        "\n",
        "\n",
        "    matrix2_inv = np.linalg.inv(matrix2)\n",
        "\n",
        "\n",
        "    result = np.matmul(matrix1, matrix2_inv)\n",
        "\n",
        "    return result.tolist()\n",
        "\n",
        "matrix1 = [\n",
        "    [1, 2],\n",
        "    [3, 4]\n",
        "]\n",
        "\n",
        "matrix2 = [\n",
        "    [2, 0],\n",
        "    [0, 2]\n",
        "]\n",
        "\n",
        "try:\n",
        "    result = matrix_division(matrix1, matrix2)\n",
        "    print(\"Result of matrix division:\")\n",
        "    for row in result:\n",
        "        print(row)\n",
        "except ValueError as e:\n",
        "    print(e)"
      ],
      "metadata": {
        "colab": {
          "base_uri": "https://localhost:8080/"
        },
        "id": "SUvKNwZ8aCiY",
        "outputId": "8190ef02-0f10-4fec-a19b-1302b590c19c"
      },
      "execution_count": 14,
      "outputs": [
        {
          "output_type": "stream",
          "name": "stdout",
          "text": [
            "Result of matrix division:\n",
            "[0.5, 1.0]\n",
            "[1.5, 2.0]\n"
          ]
        }
      ]
    },
    {
      "cell_type": "code",
      "source": [
        "def identity_matrix(n):\n",
        "\n",
        "    identity = [[5]*n for _ in range(n)]\n",
        "    for i in range(n):\n",
        "        identity[i][i] = 100\n",
        "    return identity\n",
        "\n",
        "\n",
        "n = 3\n",
        "identity = identity_matrix(n)\n",
        "\n",
        "print(\"Identity matrix of size\", n, \"x\", n, \":\")\n",
        "for row in identity:\n",
        "    print(row)"
      ],
      "metadata": {
        "colab": {
          "base_uri": "https://localhost:8080/"
        },
        "id": "NdLeyKYOdbqf",
        "outputId": "ce125de8-57aa-435d-9fd9-e4795ec6e710"
      },
      "execution_count": 17,
      "outputs": [
        {
          "output_type": "stream",
          "name": "stdout",
          "text": [
            "Identity matrix of size 3 x 3 :\n",
            "[100, 5, 5]\n",
            "[5, 100, 5]\n",
            "[5, 5, 100]\n"
          ]
        }
      ]
    },
    {
      "cell_type": "code",
      "source": [],
      "metadata": {
        "id": "aAM08tIXeSNm"
      },
      "execution_count": null,
      "outputs": []
    }
  ]
}